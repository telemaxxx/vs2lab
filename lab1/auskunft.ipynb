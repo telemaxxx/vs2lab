{
 "cells": [
  {
   "attachments": {},
   "cell_type": "markdown",
   "metadata": {},
   "source": [
    "# Running Auskunft server and client\n",
    "\n",
    "Note: not working with Windows\n",
    "## Server part\n"
   ]
  },
  {
   "cell_type": "code",
   "execution_count": 6,
   "metadata": {},
   "outputs": [
    {
     "name": "stderr",
     "output_type": "stream",
     "text": [
      "2023-11-02 12:34:43,782 - vs2lab.lab1.clientserver.Server - INFO - Server bound to socket <socket.socket fd=72, family=2, type=1, proto=0, laddr=('127.0.0.1', 50007)>\n"
     ]
    }
   ],
   "source": [
    "import auskunft_protocol # import from our script\n",
    "import os # os module needed for spawning another process\n",
    "\n",
    "server = auskunft_protocol.Server() # Create a server instance\n",
    "\n",
    "pid = os.fork() # we need to fork here in order not to block the notebook\n",
    "if pid == 0: # run server in forked process\n",
    "    server.serve() # start server routine in the forked process\n",
    "    os._exit(0) # after finishing the server routine, kill the forked process\n"
   ]
  },
  {
   "cell_type": "markdown",
   "metadata": {},
   "source": [
    "### Kill the server"
   ]
  },
  {
   "cell_type": "code",
   "execution_count": 5,
   "metadata": {
    "vscode": {
     "languageId": "shellscript"
    }
   },
   "outputs": [],
   "source": [
    "!kill -9 $(lsof -t -i :50007)\n"
   ]
  },
  {
   "attachments": {},
   "cell_type": "markdown",
   "metadata": {},
   "source": [
    "## Client\n",
    "\n",
    "### Error handling\n",
    "\n",
    "Use the client method intended for echo, server throws error"
   ]
  },
  {
   "cell_type": "code",
   "execution_count": 7,
   "metadata": {},
   "outputs": [
    {
     "name": "stderr",
     "output_type": "stream",
     "text": [
      "2023-11-02 12:34:46,595 - vs2lab.a1_layers.clientserver.Client - INFO - Client connected to socket <socket.socket fd=73, family=2, type=1, proto=0, laddr=('127.0.0.1', 63841), raddr=('127.0.0.1', 50007)>\n",
      "2023-11-02 12:34:46,597 - vs2lab.a1_layers.clientserver.Client - INFO - Client down.\n"
     ]
    },
    {
     "name": "stdout",
     "output_type": "stream",
     "text": [
      "ERROR=Invalid command;\n"
     ]
    },
    {
     "data": {
      "text/plain": [
       "'ERROR=Invalid command;'"
      ]
     },
     "execution_count": 7,
     "metadata": {},
     "output_type": "execute_result"
    }
   ],
   "source": [
    "import auskunft_protocol # import from our script\n",
    "\n",
    "client = auskunft_protocol.Client() # Create a client instance\n",
    "\n",
    "client.call() # start the call and print echo\n"
   ]
  },
  {
   "cell_type": "markdown",
   "metadata": {},
   "source": [
    "### Get all phone numbers"
   ]
  },
  {
   "cell_type": "code",
   "execution_count": 38,
   "metadata": {},
   "outputs": [
    {
     "name": "stderr",
     "output_type": "stream",
     "text": [
      "2023-11-02 12:35:16,851 - vs2lab.a1_layers.clientserver.Client - INFO - Client connected to socket <socket.socket fd=73, family=2, type=1, proto=0, laddr=('127.0.0.1', 63925), raddr=('127.0.0.1', 50007)>\n",
      "2023-11-02 12:35:16,852 - vs2lab.a1_layers.clientserver.Client - INFO - Client calling for all phonebooks.\n",
      "2023-11-02 12:35:16,856 - vs2lab.a1_layers.clientserver.Client - INFO - Client down.\n"
     ]
    },
    {
     "name": "stdout",
     "output_type": "stream",
     "text": [
      "------------------------------------------------------------\n",
      "| Name                 | Number          |\n",
      "------------------------------------------------------------\n",
      "| John                 | 1234567890      |\n",
      "| Jane                 | 0987654321      |\n",
      "| Bob                  | 1122334455      |\n",
      "| Alice                | 5566778899      |\n",
      "| Charlie              | 2233445566      |\n",
      "| David                | 3344556677      |\n",
      "| Eve                  | 4455667788      |\n",
      "| Frank                | 5566778899      |\n",
      "| Grace                | 6677889900      |\n",
      "| Heidi                | 7788990011      |\n",
      "------------------------------------------------------------\n"
     ]
    },
    {
     "data": {
      "text/plain": [
       "[('John', '1234567890'),\n",
       " ('Jane', '0987654321'),\n",
       " ('Bob', '1122334455'),\n",
       " ('Alice', '5566778899'),\n",
       " ('Charlie', '2233445566'),\n",
       " ('David', '3344556677'),\n",
       " ('Eve', '4455667788'),\n",
       " ('Frank', '5566778899'),\n",
       " ('Grace', '6677889900'),\n",
       " ('Heidi', '7788990011')]"
      ]
     },
     "execution_count": 38,
     "metadata": {},
     "output_type": "execute_result"
    }
   ],
   "source": [
    "import auskunft_protocol\n",
    "client  = auskunft_protocol.Client()\n",
    "client.callall()\n"
   ]
  },
  {
   "cell_type": "markdown",
   "metadata": {},
   "source": [
    "### Call John"
   ]
  },
  {
   "cell_type": "code",
   "execution_count": 28,
   "metadata": {},
   "outputs": [
    {
     "name": "stderr",
     "output_type": "stream",
     "text": [
      "2023-11-02 12:35:09,268 - vs2lab.a1_layers.clientserver.Client - INFO - Client connected to socket <socket.socket fd=73, family=2, type=1, proto=0, laddr=('127.0.0.1', 63897), raddr=('127.0.0.1', 50007)>\n",
      "2023-11-02 12:35:09,269 - vs2lab.a1_layers.clientserver.Client - INFO - Client calling for phone number of John.\n",
      "2023-11-02 12:35:09,270 - vs2lab.a1_layers.clientserver.Client - INFO - Client down.\n"
     ]
    },
    {
     "name": "stdout",
     "output_type": "stream",
     "text": [
      "| John                 | 1234567890      |\n"
     ]
    },
    {
     "data": {
      "text/plain": [
       "('John', '1234567890')"
      ]
     },
     "execution_count": 28,
     "metadata": {},
     "output_type": "execute_result"
    }
   ],
   "source": [
    "import auskunft_protocol\n",
    "client = auskunft_protocol.Client()\n",
    "client.callnumber(name=\"John\")\n"
   ]
  },
  {
   "cell_type": "markdown",
   "metadata": {},
   "source": [
    "### Call imaginary person\n",
    "\n",
    "server should give an error"
   ]
  },
  {
   "cell_type": "code",
   "execution_count": 35,
   "metadata": {},
   "outputs": [
    {
     "name": "stderr",
     "output_type": "stream",
     "text": [
      "2023-11-02 12:35:13,909 - vs2lab.a1_layers.clientserver.Client - INFO - Client connected to socket <socket.socket fd=73, family=2, type=1, proto=0, laddr=('127.0.0.1', 63914), raddr=('127.0.0.1', 50007)>\n",
      "2023-11-02 12:35:13,910 - vs2lab.a1_layers.clientserver.Client - INFO - Client calling for phone number of Idonotexist.\n"
     ]
    },
    {
     "name": "stdout",
     "output_type": "stream",
     "text": [
      "Name not found;\n"
     ]
    },
    {
     "data": {
      "text/plain": [
       "('Idonotexist', None)"
      ]
     },
     "execution_count": 35,
     "metadata": {},
     "output_type": "execute_result"
    }
   ],
   "source": [
    "import auskunft_protocol\n",
    "client = auskunft_protocol.Client()\n",
    "client.callnumber(\"Idonotexist\")\n"
   ]
  },
  {
   "cell_type": "markdown",
   "metadata": {},
   "source": [
    "## "
   ]
  }
 ],
 "metadata": {
  "kernelspec": {
   "display_name": "Python 3",
   "language": "python",
   "name": "python3"
  },
  "language_info": {
   "codemirror_mode": {
    "name": "ipython",
    "version": 3
   },
   "file_extension": ".py",
   "mimetype": "text/x-python",
   "name": "python",
   "nbconvert_exporter": "python",
   "pygments_lexer": "ipython3",
   "version": "3.11.6"
  }
 },
 "nbformat": 4,
 "nbformat_minor": 2
}
